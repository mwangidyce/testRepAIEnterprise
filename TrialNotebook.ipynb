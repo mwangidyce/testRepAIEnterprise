{
 "cells": [
  {
   "cell_type": "code",
   "execution_count": 3,
   "source": [
    "all(x in [2,3] for x in [2,3])"
   ],
   "outputs": [
    {
     "output_type": "execute_result",
     "data": {
      "text/plain": [
       "True"
      ]
     },
     "metadata": {},
     "execution_count": 3
    }
   ],
   "metadata": {}
  },
  {
   "cell_type": "code",
   "execution_count": 2,
   "source": [
    "a = 5\n"
   ],
   "outputs": [],
   "metadata": {}
  },
  {
   "cell_type": "code",
   "execution_count": 3,
   "source": [
    "print(a)"
   ],
   "outputs": [
    {
     "output_type": "stream",
     "name": "stdout",
     "text": [
      "5\n"
     ]
    }
   ],
   "metadata": {}
  },
  {
   "cell_type": "code",
   "execution_count": 4,
   "source": [
    "import trial"
   ],
   "outputs": [
    {
     "output_type": "stream",
     "name": "stdout",
     "text": [
      "Hello world\n"
     ]
    }
   ],
   "metadata": {}
  },
  {
   "cell_type": "code",
   "execution_count": 5,
   "source": [
    "import trial"
   ],
   "outputs": [],
   "metadata": {}
  },
  {
   "cell_type": "code",
   "execution_count": 6,
   "source": [
    "trial.__name__"
   ],
   "outputs": [
    {
     "output_type": "execute_result",
     "data": {
      "text/plain": [
       "'trial'"
      ]
     },
     "metadata": {},
     "execution_count": 6
    }
   ],
   "metadata": {}
  },
  {
   "cell_type": "code",
   "execution_count": 7,
   "source": [
    "print(__name__)"
   ],
   "outputs": [
    {
     "output_type": "stream",
     "name": "stdout",
     "text": [
      "__main__\n"
     ]
    }
   ],
   "metadata": {}
  },
  {
   "cell_type": "markdown",
   "source": [
    "# An h1 header\n",
    "\n",
    "Paragraphs are separated by a blank line.\n",
    "\n",
    "2nd paragraph. _Italic_, **bold**, and `monospace`. Itemized lists\n",
    "look like:\n",
    "\n",
    "- this one\n",
    "- that one\n",
    "- the other one\n",
    "\n",
    "Note that --- not considering the asterisk --- the actual text\n",
    "content starts at 4-columns in.\n",
    "\n",
    "> Block quotes are\n",
    "> written like so.\n",
    ">\n",
    "> They can span multiple paragraphs,\n",
    "> if you like.\n",
    "\n",
    "Use 3 dashes for an em-dash. Use 2 dashes for ranges (ex., \"it's all\n",
    "in chapters 12--14\"). Three dots ... will be converted to an ellipsis.\n",
    "Unicode is supported. ☺\n",
    "\n",
    "## An h2 header\n",
    "\n",
    "Here's a numbered list:\n",
    "\n",
    "1.  first item\n",
    "2.  second item\n",
    "3.  third item\n",
    "\n",
    "Note again how the actual text starts at 4 columns in (4 characters\n",
    "from the left side). Here's a code sample:\n",
    "\n",
    "    # Let me re-iterate ...\n",
    "    for i in 1 .. 10 { do-something(i) }\n",
    "\n",
    "As you probably guessed, indented 4 spaces. By the way, instead of\n",
    "indenting the block, you can use delimited blocks, if you like:\n",
    "\n",
    "```\n",
    "define foobar() {\n",
    "    print \"Welcome to flavor country!\";\n",
    "}\n",
    "```\n",
    "\n",
    "(which makes copying & pasting easier). You can optionally mark the\n",
    "delimited block for Pandoc to syntax highlight it:\n",
    "\n",
    "```python\n",
    "import time\n",
    "# Quick, count to ten!\n",
    "for i in range(10):\n",
    "    # (but not *too* quick)\n",
    "    time.sleep(0.5)\n",
    "    print(i)\n",
    "```\n",
    "\n",
    "### An h3 header\n",
    "\n",
    "Now a nested list:\n",
    "\n",
    "1.  First, get these ingredients:\n",
    "\n",
    "    - carrots\n",
    "    - celery\n",
    "    - lentils\n",
    "\n",
    "2.  Boil some water.\n",
    "\n",
    "3.  Dump everything in the pot and follow\n",
    "    this algorithm:\n",
    "\n",
    "        find wooden spoon\n",
    "        uncover pot\n",
    "        stir\n",
    "        cover pot\n",
    "        balance wooden spoon precariously on pot handle\n",
    "        wait 10 minutes\n",
    "        goto first step (or shut off burner when done)\n",
    "\n",
    "    Do not bump wooden spoon or it will fall.\n",
    "\n",
    "Notice again how text always lines up on 4-space indents (including\n",
    "that last line which continues item 3 above).\n",
    "\n",
    "Here's a link to [a website](http://foo.bar), to a [local\n",
    "doc](local-doc.html), and to a [section heading in the current\n",
    "doc](#an-h2-header). Here's a footnote [^1].\n",
    "\n",
    "[^1]: Some footnote text.\n",
    "\n",
    "Tables can look like this:\n",
    "\n",
    "Name Size Material Color\n",
    "\n",
    "---\n",
    "\n",
    "All Business 9 leather brown\n",
    "Roundabout 10 hemp canvas natural\n",
    "Cinderella 11 glass transparent\n",
    "\n",
    "Table: Shoes sizes, materials, and colors.\n",
    "\n",
    "(The above is the caption for the table.) Pandoc also supports\n",
    "multi-line tables:\n",
    "\n",
    "---\n",
    "\n",
    "Keyword Text\n",
    "\n",
    "---\n",
    "\n",
    "red Sunsets, apples, and\n",
    "other red or reddish\n",
    "things.\n",
    "\n",
    "green Leaves, grass, frogs\n",
    "and other things it's\n",
    "not easy being.\n",
    "\n",
    "---\n",
    "\n",
    "A horizontal rule follows.\n",
    "\n",
    "---\n",
    "\n",
    "Here's a definition list:\n",
    "\n",
    "apples\n",
    ": Good for making applesauce.\n",
    "\n",
    "oranges\n",
    ": Citrus!\n",
    "\n",
    "tomatoes\n",
    ": There's no \"e\" in tomatoe.\n",
    "\n",
    "Again, text is indented 4 spaces. (Put a blank line between each\n",
    "term and its definition to spread things out more.)\n",
    "\n",
    "Here's a \"line block\" (note how whitespace is honored):\n",
    "\n",
    "| Line one\n",
    "| Line too\n",
    "| Line tree\n",
    "\n",
    "and images can be specified like so:\n",
    "\n",
    "![example image](example-image.jpg \"An exemplary image\")\n",
    "\n",
    "Inline math equation: $\\omega = d\\phi / dt$. Display\n",
    "math should get its own line like so:\n",
    "\n",
    "$$I = \\int \\rho R^{2} dV$$\n",
    "\n",
    "And note that you can backslash-escape any punctuation characters\n",
    "which you wish to be displayed literally, ex.: \\`foo\\`, \\*bar\\*, etc.\n"
   ],
   "metadata": {}
  },
  {
   "cell_type": "code",
   "execution_count": 10,
   "source": [
    "b=4\n"
   ],
   "outputs": [],
   "metadata": {}
  },
  {
   "cell_type": "code",
   "execution_count": 11,
   "source": [
    "!pip\n"
   ],
   "outputs": [
    {
     "output_type": "stream",
     "name": "stdout",
     "text": [
      "\n",
      "Usage:   \n",
      "  pip <command> [options]\n",
      "\n",
      "Commands:\n",
      "  install                     Install packages.\n",
      "  download                    Download packages.\n",
      "  uninstall                   Uninstall packages.\n",
      "  freeze                      Output installed packages in requirements format.\n",
      "  list                        List installed packages.\n",
      "  show                        Show information about installed packages.\n",
      "  check                       Verify installed packages have compatible dependencies.\n",
      "  config                      Manage local and global configuration.\n",
      "  search                      Search PyPI for packages.\n",
      "  cache                       Inspect and manage pip's wheel cache.\n",
      "  wheel                       Build wheels from your requirements.\n",
      "  hash                        Compute hashes of package archives.\n",
      "  completion                  A helper command used for command completion.\n",
      "  debug                       Show information useful for debugging.\n",
      "  help                        Show help for commands.\n",
      "\n",
      "General Options:\n",
      "  -h, --help                  Show help.\n",
      "  --isolated                  Run pip in an isolated mode, ignoring\n",
      "                              environment variables and user configuration.\n",
      "  -v, --verbose               Give more output. Option is additive, and can be\n",
      "                              used up to 3 times.\n",
      "  -V, --version               Show version and exit.\n",
      "  -q, --quiet                 Give less output. Option is additive, and can be\n",
      "                              used up to 3 times (corresponding to WARNING,\n",
      "                              ERROR, and CRITICAL logging levels).\n",
      "  --log <path>                Path to a verbose appending log.\n",
      "  --no-input                  Disable prompting for input.\n",
      "  --proxy <proxy>             Specify a proxy in the form\n",
      "                              [user:passwd@]proxy.server:port.\n",
      "  --retries <retries>         Maximum number of retries each connection should\n",
      "                              attempt (default 5 times).\n",
      "  --timeout <sec>             Set the socket timeout (default 15 seconds).\n",
      "  --exists-action <action>    Default action when a path already exists:\n",
      "                              (s)witch, (i)gnore, (w)ipe, (b)ackup, (a)bort.\n",
      "  --trusted-host <hostname>   Mark this host or host:port pair as trusted,\n",
      "                              even though it does not have valid or any HTTPS.\n",
      "  --cert <path>               Path to alternate CA bundle.\n",
      "  --client-cert <path>        Path to SSL client certificate, a single file\n",
      "                              containing the private key and the certificate\n",
      "                              in PEM format.\n",
      "  --cache-dir <dir>           Store the cache data in <dir>.\n",
      "  --no-cache-dir              Disable the cache.\n",
      "  --disable-pip-version-check\n",
      "                              Don't periodically check PyPI to determine\n",
      "                              whether a new version of pip is available for\n",
      "                              download. Implied with --no-index.\n",
      "  --no-color                  Suppress colored output.\n",
      "  --no-python-version-warning\n",
      "                              Silence deprecation warnings for upcoming\n",
      "                              unsupported Pythons.\n",
      "  --use-feature <feature>     Enable new functionality, that may be backward\n",
      "                              incompatible.\n",
      "  --use-deprecated <feature>  Enable deprecated functionality, that will be\n",
      "                              removed in the future.\n"
     ]
    }
   ],
   "metadata": {}
  },
  {
   "cell_type": "code",
   "execution_count": 1,
   "source": [
    "%lsmagic\n"
   ],
   "outputs": [
    {
     "output_type": "execute_result",
     "data": {
      "application/json": {
       "cell": {
        "!": "OSMagics",
        "HTML": "Other",
        "SVG": "Other",
        "bash": "Other",
        "capture": "ExecutionMagics",
        "debug": "ExecutionMagics",
        "file": "Other",
        "html": "DisplayMagics",
        "javascript": "DisplayMagics",
        "js": "DisplayMagics",
        "latex": "DisplayMagics",
        "markdown": "DisplayMagics",
        "perl": "Other",
        "prun": "ExecutionMagics",
        "pypy": "Other",
        "python": "Other",
        "python2": "Other",
        "python3": "Other",
        "ruby": "Other",
        "script": "ScriptMagics",
        "sh": "Other",
        "svg": "DisplayMagics",
        "sx": "OSMagics",
        "system": "OSMagics",
        "time": "ExecutionMagics",
        "timeit": "ExecutionMagics",
        "writefile": "OSMagics"
       },
       "line": {
        "alias": "OSMagics",
        "alias_magic": "BasicMagics",
        "autoawait": "AsyncMagics",
        "autocall": "AutoMagics",
        "automagic": "AutoMagics",
        "autosave": "KernelMagics",
        "bookmark": "OSMagics",
        "cat": "Other",
        "cd": "OSMagics",
        "clear": "KernelMagics",
        "colors": "BasicMagics",
        "conda": "PackagingMagics",
        "config": "ConfigMagics",
        "connect_info": "KernelMagics",
        "cp": "Other",
        "debug": "ExecutionMagics",
        "dhist": "OSMagics",
        "dirs": "OSMagics",
        "doctest_mode": "BasicMagics",
        "ed": "Other",
        "edit": "KernelMagics",
        "env": "OSMagics",
        "gui": "BasicMagics",
        "hist": "Other",
        "history": "HistoryMagics",
        "killbgscripts": "ScriptMagics",
        "ldir": "Other",
        "less": "KernelMagics",
        "lf": "Other",
        "lk": "Other",
        "ll": "Other",
        "load": "CodeMagics",
        "load_ext": "ExtensionMagics",
        "loadpy": "CodeMagics",
        "logoff": "LoggingMagics",
        "logon": "LoggingMagics",
        "logstart": "LoggingMagics",
        "logstate": "LoggingMagics",
        "logstop": "LoggingMagics",
        "ls": "Other",
        "lsmagic": "BasicMagics",
        "lx": "Other",
        "macro": "ExecutionMagics",
        "magic": "BasicMagics",
        "man": "KernelMagics",
        "matplotlib": "PylabMagics",
        "mkdir": "Other",
        "more": "KernelMagics",
        "mv": "Other",
        "notebook": "BasicMagics",
        "page": "BasicMagics",
        "pastebin": "CodeMagics",
        "pdb": "ExecutionMagics",
        "pdef": "NamespaceMagics",
        "pdoc": "NamespaceMagics",
        "pfile": "NamespaceMagics",
        "pinfo": "NamespaceMagics",
        "pinfo2": "NamespaceMagics",
        "pip": "PackagingMagics",
        "popd": "OSMagics",
        "pprint": "BasicMagics",
        "precision": "BasicMagics",
        "prun": "ExecutionMagics",
        "psearch": "NamespaceMagics",
        "psource": "NamespaceMagics",
        "pushd": "OSMagics",
        "pwd": "OSMagics",
        "pycat": "OSMagics",
        "pylab": "PylabMagics",
        "qtconsole": "KernelMagics",
        "quickref": "BasicMagics",
        "recall": "HistoryMagics",
        "rehashx": "OSMagics",
        "reload_ext": "ExtensionMagics",
        "rep": "Other",
        "rerun": "HistoryMagics",
        "reset": "NamespaceMagics",
        "reset_selective": "NamespaceMagics",
        "rm": "Other",
        "rmdir": "Other",
        "run": "ExecutionMagics",
        "save": "CodeMagics",
        "sc": "OSMagics",
        "set_env": "OSMagics",
        "store": "StoreMagics",
        "sx": "OSMagics",
        "system": "OSMagics",
        "tb": "ExecutionMagics",
        "time": "ExecutionMagics",
        "timeit": "ExecutionMagics",
        "unalias": "OSMagics",
        "unload_ext": "ExtensionMagics",
        "who": "NamespaceMagics",
        "who_ls": "NamespaceMagics",
        "whos": "NamespaceMagics",
        "xdel": "NamespaceMagics",
        "xmode": "BasicMagics"
       }
      },
      "text/plain": [
       "Available line magics:\n",
       "%alias  %alias_magic  %autoawait  %autocall  %automagic  %autosave  %bookmark  %cat  %cd  %clear  %colors  %conda  %config  %connect_info  %cp  %debug  %dhist  %dirs  %doctest_mode  %ed  %edit  %env  %gui  %hist  %history  %killbgscripts  %ldir  %less  %lf  %lk  %ll  %load  %load_ext  %loadpy  %logoff  %logon  %logstart  %logstate  %logstop  %ls  %lsmagic  %lx  %macro  %magic  %man  %matplotlib  %mkdir  %more  %mv  %notebook  %page  %pastebin  %pdb  %pdef  %pdoc  %pfile  %pinfo  %pinfo2  %pip  %popd  %pprint  %precision  %prun  %psearch  %psource  %pushd  %pwd  %pycat  %pylab  %qtconsole  %quickref  %recall  %rehashx  %reload_ext  %rep  %rerun  %reset  %reset_selective  %rm  %rmdir  %run  %save  %sc  %set_env  %store  %sx  %system  %tb  %time  %timeit  %unalias  %unload_ext  %who  %who_ls  %whos  %xdel  %xmode\n",
       "\n",
       "Available cell magics:\n",
       "%%!  %%HTML  %%SVG  %%bash  %%capture  %%debug  %%file  %%html  %%javascript  %%js  %%latex  %%markdown  %%perl  %%prun  %%pypy  %%python  %%python2  %%python3  %%ruby  %%script  %%sh  %%svg  %%sx  %%system  %%time  %%timeit  %%writefile\n",
       "\n",
       "Automagic is ON, % prefix IS NOT needed for line magics."
      ]
     },
     "metadata": {},
     "execution_count": 1
    }
   ],
   "metadata": {}
  },
  {
   "cell_type": "code",
   "execution_count": 2,
   "source": [
    "%pwd"
   ],
   "outputs": [
    {
     "output_type": "execute_result",
     "data": {
      "text/plain": [
       "'/home/mwangidyce/durham/flights'"
      ]
     },
     "metadata": {},
     "execution_count": 2
    }
   ],
   "metadata": {}
  },
  {
   "cell_type": "code",
   "execution_count": 3,
   "source": [
    "# Set matplotlib to inline\n",
    "%ls\n"
   ],
   "outputs": [
    {
     "output_type": "stream",
     "name": "stdout",
     "text": [
      "TrialNotebook.ipynb  \u001b[0m\u001b[01;34m__pycache__\u001b[0m/  trial.py\n"
     ]
    }
   ],
   "metadata": {}
  },
  {
   "cell_type": "code",
   "execution_count": 4,
   "source": [
    "!ls"
   ],
   "outputs": [
    {
     "output_type": "stream",
     "name": "stdout",
     "text": [
      "TrialNotebook.ipynb  __pycache__  trial.py\n"
     ]
    }
   ],
   "metadata": {}
  },
  {
   "cell_type": "code",
   "execution_count": 5,
   "source": [
    "!pip install pycodestyle pycodestyle_magic"
   ],
   "outputs": [
    {
     "output_type": "stream",
     "name": "stdout",
     "text": [
      "Collecting pycodestyle\n",
      "  Using cached pycodestyle-2.7.0-py2.py3-none-any.whl (41 kB)\n",
      "Collecting pycodestyle_magic\n",
      "  Downloading pycodestyle_magic-0.5-py2.py3-none-any.whl (9.5 kB)\n",
      "Installing collected packages: pycodestyle-magic, pycodestyle\n",
      "Successfully installed pycodestyle-2.7.0 pycodestyle-magic-0.5\n"
     ]
    }
   ],
   "metadata": {}
  },
  {
   "cell_type": "code",
   "execution_count": 9,
   "source": [
    "%load_ext pycodestyle_magic"
   ],
   "outputs": [
    {
     "output_type": "stream",
     "name": "stdout",
     "text": [
      "The pycodestyle_magic extension is already loaded. To reload it, use:\n",
      "  %reload_ext pycodestyle_magic\n"
     ]
    }
   ],
   "metadata": {}
  },
  {
   "cell_type": "code",
   "execution_count": 7,
   "source": [
    "!pip install flake8\n"
   ],
   "outputs": [
    {
     "output_type": "stream",
     "name": "stdout",
     "text": [
      "Collecting flake8\n",
      "  Downloading flake8-3.9.2-py2.py3-none-any.whl (73 kB)\n",
      "\u001b[K     |████████████████████████████████| 73 kB 573 kB/s eta 0:00:011\n",
      "\u001b[?25hRequirement already satisfied: pycodestyle<2.8.0,>=2.7.0 in /root/miniconda3/envs/d2l/lib/python3.8/site-packages (from flake8) (2.7.0)\n",
      "Collecting pyflakes<2.4.0,>=2.3.0\n",
      "  Using cached pyflakes-2.3.1-py2.py3-none-any.whl (68 kB)\n",
      "Collecting mccabe<0.7.0,>=0.6.0\n",
      "  Using cached mccabe-0.6.1-py2.py3-none-any.whl (8.6 kB)\n",
      "Installing collected packages: pyflakes, mccabe, flake8\n",
      "Successfully installed flake8-3.9.2 mccabe-0.6.1 pyflakes-2.3.1\n"
     ]
    }
   ],
   "metadata": {}
  },
  {
   "cell_type": "code",
   "execution_count": null,
   "source": [],
   "outputs": [],
   "metadata": {}
  }
 ],
 "metadata": {
  "kernelspec": {
   "name": "python3",
   "display_name": "Python 3.8.11 64-bit ('d2l': conda)"
  },
  "language_info": {
   "codemirror_mode": {
    "name": "ipython",
    "version": 3
   },
   "file_extension": ".py",
   "mimetype": "text/x-python",
   "name": "python",
   "nbconvert_exporter": "python",
   "pygments_lexer": "ipython3",
   "version": "3.8.11"
  },
  "interpreter": {
   "hash": "a22bc250b02a2c57572fb89a3fdc66255d63069127bad084ba175f9585649994"
  }
 },
 "nbformat": 4,
 "nbformat_minor": 5
}