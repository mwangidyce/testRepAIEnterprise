{
 "cells": [
  {
   "cell_type": "markdown",
   "metadata": {},
   "source": [
    "## Import and Processing"
   ]
  },
  {
   "cell_type": "code",
   "execution_count": 58,
   "metadata": {},
   "outputs": [],
   "source": [
    "import pandas as pd\n",
    "\n",
    "main_df = pd.read_csv(\"dataset.csv\", header=None)\n",
    "\n",
    "#Convert to numerical values\n",
    "main_df = main_df[main_df.iloc[:,6].apply(lambda x: x.isnumeric())].apply(pd.to_numeric)\n",
    "main_df, target = main_df.iloc[:, :-1], main_df.iloc[:, -1]\n"
   ]
  },
  {
   "cell_type": "markdown",
   "metadata": {},
   "source": [
    "***\n",
    "## Logistic Regression"
   ]
  },
  {
   "cell_type": "code",
   "execution_count": 60,
   "metadata": {},
   "outputs": [
    {
     "name": "stdout",
     "output_type": "stream",
     "text": [
      "Accuracy : 0.9431239935587763\n"
     ]
    }
   ],
   "source": [
    "from sklearn.linear_model import LogisticRegression\n",
    "from sklearn.model_selection import cross_val_score\n",
    "\n",
    "logisitic_model = LogisticRegression(solver='liblinear', C=3.0, class_weight=\"balanced\", random_state=0)\n",
    "acc = cross_val_score(logisitic_model, main_df, target, cv=15).mean()\n",
    "print(f\"Accuracy : {acc}\")\n"
   ]
  }
 ],
 "metadata": {
  "interpreter": {
   "hash": "6fbcb25ffd1e704b77e766f8f15869059d849d69d6a71e37721ac89c2bbcb90f"
  },
  "kernelspec": {
   "display_name": "Python 3.8.2 ('d2l')",
   "language": "python",
   "name": "python3"
  },
  "language_info": {
   "codemirror_mode": {
    "name": "ipython",
    "version": 3
   },
   "file_extension": ".py",
   "mimetype": "text/x-python",
   "name": "python",
   "nbconvert_exporter": "python",
   "pygments_lexer": "ipython3",
   "version": "3.8.2"
  },
  "orig_nbformat": 4
 },
 "nbformat": 4,
 "nbformat_minor": 2
}
