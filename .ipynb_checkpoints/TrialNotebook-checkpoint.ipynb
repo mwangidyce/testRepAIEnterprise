{
 "cells": [
  {
   "cell_type": "code",
   "execution_count": 1,
   "id": "5bac6592-1b84-4d04-879e-71e8a5d39dd5",
   "metadata": {},
   "outputs": [
    {
     "name": "stdout",
     "output_type": "stream",
     "text": [
      "Hello world\n"
     ]
    }
   ],
   "source": [
    "print(\"Hello world\")\n"
   ]
  },
  {
   "cell_type": "code",
   "execution_count": 2,
   "id": "2e967849-6894-429b-8dc5-bcddc18fc7e7",
   "metadata": {},
   "outputs": [],
   "source": [
    "a = 5\n"
   ]
  },
  {
   "cell_type": "code",
   "execution_count": 3,
   "id": "ef492643-88f3-4e92-9b99-d3534085a421",
   "metadata": {},
   "outputs": [
    {
     "name": "stdout",
     "output_type": "stream",
     "text": [
      "5\n"
     ]
    }
   ],
   "source": [
    "print(a)"
   ]
  },
  {
   "cell_type": "code",
   "execution_count": 4,
   "id": "489b82b1-ccf8-4e18-849b-7176af7d9617",
   "metadata": {},
   "outputs": [
    {
     "name": "stdout",
     "output_type": "stream",
     "text": [
      "Hello world\n"
     ]
    }
   ],
   "source": [
    "import trial"
   ]
  },
  {
   "cell_type": "code",
   "execution_count": 5,
   "id": "aa0398e1-bf78-489b-b2f4-84ab357447cb",
   "metadata": {},
   "outputs": [],
   "source": [
    "import trial"
   ]
  },
  {
   "cell_type": "code",
   "execution_count": 6,
   "id": "158c5775-6ec5-45a6-adfe-1e395bda7953",
   "metadata": {},
   "outputs": [
    {
     "data": {
      "text/plain": [
       "'trial'"
      ]
     },
     "execution_count": 6,
     "metadata": {},
     "output_type": "execute_result"
    }
   ],
   "source": [
    "trial.__name__"
   ]
  },
  {
   "cell_type": "code",
   "execution_count": 7,
   "id": "dd97a82b-280c-490c-832c-1541f9fbbd54",
   "metadata": {},
   "outputs": [
    {
     "name": "stdout",
     "output_type": "stream",
     "text": [
      "__main__\n"
     ]
    }
   ],
   "source": [
    "print(__name__)"
   ]
  },
  {
   "cell_type": "markdown",
   "id": "288059c4-80f5-4fec-b93c-0baede0c8a28",
   "metadata": {},
   "source": [
    "An h1 header\n",
    "============\n",
    "\n",
    "Paragraphs are separated by a blank line.\n",
    "\n",
    "2nd paragraph. *Italic*, **bold**, and `monospace`. Itemized lists\n",
    "look like:\n",
    "\n",
    "  * this one\n",
    "  * that one\n",
    "  * the other one\n",
    "\n",
    "Note that --- not considering the asterisk --- the actual text\n",
    "content starts at 4-columns in.\n",
    "\n",
    "> Block quotes are\n",
    "> written like so.\n",
    ">\n",
    "> They can span multiple paragraphs,\n",
    "> if you like.\n",
    "\n",
    "Use 3 dashes for an em-dash. Use 2 dashes for ranges (ex., \"it's all\n",
    "in chapters 12--14\"). Three dots ... will be converted to an ellipsis.\n",
    "Unicode is supported. ☺\n",
    "\n",
    "\n",
    "\n",
    "An h2 header\n",
    "------------\n",
    "\n",
    "Here's a numbered list:\n",
    "\n",
    " 1. first item\n",
    " 2. second item\n",
    " 3. third item\n",
    "\n",
    "Note again how the actual text starts at 4 columns in (4 characters\n",
    "from the left side). Here's a code sample:\n",
    "\n",
    "    # Let me re-iterate ...\n",
    "    for i in 1 .. 10 { do-something(i) }\n",
    "\n",
    "As you probably guessed, indented 4 spaces. By the way, instead of\n",
    "indenting the block, you can use delimited blocks, if you like:\n",
    "\n",
    "~~~\n",
    "define foobar() {\n",
    "    print \"Welcome to flavor country!\";\n",
    "}\n",
    "~~~\n",
    "\n",
    "(which makes copying & pasting easier). You can optionally mark the\n",
    "delimited block for Pandoc to syntax highlight it:\n",
    "\n",
    "~~~python\n",
    "import time\n",
    "# Quick, count to ten!\n",
    "for i in range(10):\n",
    "    # (but not *too* quick)\n",
    "    time.sleep(0.5)\n",
    "    print(i)\n",
    "~~~\n",
    "\n",
    "\n",
    "\n",
    "### An h3 header ###\n",
    "\n",
    "Now a nested list:\n",
    "\n",
    " 1. First, get these ingredients:\n",
    "\n",
    "      * carrots\n",
    "      * celery\n",
    "      * lentils\n",
    "\n",
    " 2. Boil some water.\n",
    "\n",
    " 3. Dump everything in the pot and follow\n",
    "    this algorithm:\n",
    "\n",
    "        find wooden spoon\n",
    "        uncover pot\n",
    "        stir\n",
    "        cover pot\n",
    "        balance wooden spoon precariously on pot handle\n",
    "        wait 10 minutes\n",
    "        goto first step (or shut off burner when done)\n",
    "\n",
    "    Do not bump wooden spoon or it will fall.\n",
    "\n",
    "Notice again how text always lines up on 4-space indents (including\n",
    "that last line which continues item 3 above).\n",
    "\n",
    "Here's a link to [a website](http://foo.bar), to a [local\n",
    "doc](local-doc.html), and to a [section heading in the current\n",
    "doc](#an-h2-header). Here's a footnote [^1].\n",
    "\n",
    "[^1]: Some footnote text.\n",
    "\n",
    "Tables can look like this:\n",
    "\n",
    "Name           Size  Material      Color\n",
    "------------- -----  ------------  ------------\n",
    "All Business      9  leather       brown\n",
    "Roundabout       10  hemp canvas   natural\n",
    "Cinderella       11  glass         transparent\n",
    "\n",
    "Table: Shoes sizes, materials, and colors.\n",
    "\n",
    "(The above is the caption for the table.) Pandoc also supports\n",
    "multi-line tables:\n",
    "\n",
    "--------  -----------------------\n",
    "Keyword   Text\n",
    "--------  -----------------------\n",
    "red       Sunsets, apples, and\n",
    "          other red or reddish\n",
    "          things.\n",
    "\n",
    "green     Leaves, grass, frogs\n",
    "          and other things it's\n",
    "          not easy being.\n",
    "--------  -----------------------\n",
    "\n",
    "A horizontal rule follows.\n",
    "\n",
    "***\n",
    "\n",
    "Here's a definition list:\n",
    "\n",
    "apples\n",
    "  : Good for making applesauce.\n",
    "\n",
    "oranges\n",
    "  : Citrus!\n",
    "\n",
    "tomatoes\n",
    "  : There's no \"e\" in tomatoe.\n",
    "\n",
    "Again, text is indented 4 spaces. (Put a blank line between each\n",
    "term and  its definition to spread things out more.)\n",
    "\n",
    "Here's a \"line block\" (note how whitespace is honored):\n",
    "\n",
    "| Line one\n",
    "|   Line too\n",
    "| Line tree\n",
    "\n",
    "and images can be specified like so:\n",
    "\n",
    "![example image](example-image.jpg \"An exemplary image\")\n",
    "\n",
    "Inline math equation: $\\omega = d\\phi / dt$. Display\n",
    "math should get its own line like so:\n",
    "\n",
    "$$I = \\int \\rho R^{2} dV$$\n",
    "\n",
    "And note that you can backslash-escape any punctuation characters\n",
    "which you wish to be displayed literally, ex.: \\`foo\\`, \\*bar\\*, etc."
   ]
  },
  {
   "cell_type": "code",
   "execution_count": 10,
   "id": "e79ea2a7-654c-40ce-bbe6-100599e4ecbf",
   "metadata": {},
   "outputs": [],
   "source": [
    "b=4\n"
   ]
  },
  {
   "cell_type": "code",
   "execution_count": 11,
   "id": "58473068-ff83-4d8f-9ac4-3e982aa9a1c4",
   "metadata": {},
   "outputs": [
    {
     "name": "stdout",
     "output_type": "stream",
     "text": [
      "\n",
      "Usage:   \n",
      "  pip <command> [options]\n",
      "\n",
      "Commands:\n",
      "  install                     Install packages.\n",
      "  download                    Download packages.\n",
      "  uninstall                   Uninstall packages.\n",
      "  freeze                      Output installed packages in requirements format.\n",
      "  list                        List installed packages.\n",
      "  show                        Show information about installed packages.\n",
      "  check                       Verify installed packages have compatible dependencies.\n",
      "  config                      Manage local and global configuration.\n",
      "  search                      Search PyPI for packages.\n",
      "  cache                       Inspect and manage pip's wheel cache.\n",
      "  wheel                       Build wheels from your requirements.\n",
      "  hash                        Compute hashes of package archives.\n",
      "  completion                  A helper command used for command completion.\n",
      "  debug                       Show information useful for debugging.\n",
      "  help                        Show help for commands.\n",
      "\n",
      "General Options:\n",
      "  -h, --help                  Show help.\n",
      "  --isolated                  Run pip in an isolated mode, ignoring\n",
      "                              environment variables and user configuration.\n",
      "  -v, --verbose               Give more output. Option is additive, and can be\n",
      "                              used up to 3 times.\n",
      "  -V, --version               Show version and exit.\n",
      "  -q, --quiet                 Give less output. Option is additive, and can be\n",
      "                              used up to 3 times (corresponding to WARNING,\n",
      "                              ERROR, and CRITICAL logging levels).\n",
      "  --log <path>                Path to a verbose appending log.\n",
      "  --no-input                  Disable prompting for input.\n",
      "  --proxy <proxy>             Specify a proxy in the form\n",
      "                              [user:passwd@]proxy.server:port.\n",
      "  --retries <retries>         Maximum number of retries each connection should\n",
      "                              attempt (default 5 times).\n",
      "  --timeout <sec>             Set the socket timeout (default 15 seconds).\n",
      "  --exists-action <action>    Default action when a path already exists:\n",
      "                              (s)witch, (i)gnore, (w)ipe, (b)ackup, (a)bort.\n",
      "  --trusted-host <hostname>   Mark this host or host:port pair as trusted,\n",
      "                              even though it does not have valid or any HTTPS.\n",
      "  --cert <path>               Path to alternate CA bundle.\n",
      "  --client-cert <path>        Path to SSL client certificate, a single file\n",
      "                              containing the private key and the certificate\n",
      "                              in PEM format.\n",
      "  --cache-dir <dir>           Store the cache data in <dir>.\n",
      "  --no-cache-dir              Disable the cache.\n",
      "  --disable-pip-version-check\n",
      "                              Don't periodically check PyPI to determine\n",
      "                              whether a new version of pip is available for\n",
      "                              download. Implied with --no-index.\n",
      "  --no-color                  Suppress colored output.\n",
      "  --no-python-version-warning\n",
      "                              Silence deprecation warnings for upcoming\n",
      "                              unsupported Pythons.\n",
      "  --use-feature <feature>     Enable new functionality, that may be backward\n",
      "                              incompatible.\n",
      "  --use-deprecated <feature>  Enable deprecated functionality, that will be\n",
      "                              removed in the future.\n"
     ]
    }
   ],
   "source": [
    "!pip\n"
   ]
  },
  {
   "cell_type": "code",
   "execution_count": 1,
   "id": "0ce55769-c1ef-49fe-ad7e-dd0d7b6f373b",
   "metadata": {},
   "outputs": [
    {
     "data": {
      "application/json": {
       "cell": {
        "!": "OSMagics",
        "HTML": "Other",
        "SVG": "Other",
        "bash": "Other",
        "capture": "ExecutionMagics",
        "debug": "ExecutionMagics",
        "file": "Other",
        "html": "DisplayMagics",
        "javascript": "DisplayMagics",
        "js": "DisplayMagics",
        "latex": "DisplayMagics",
        "markdown": "DisplayMagics",
        "perl": "Other",
        "prun": "ExecutionMagics",
        "pypy": "Other",
        "python": "Other",
        "python2": "Other",
        "python3": "Other",
        "ruby": "Other",
        "script": "ScriptMagics",
        "sh": "Other",
        "svg": "DisplayMagics",
        "sx": "OSMagics",
        "system": "OSMagics",
        "time": "ExecutionMagics",
        "timeit": "ExecutionMagics",
        "writefile": "OSMagics"
       },
       "line": {
        "alias": "OSMagics",
        "alias_magic": "BasicMagics",
        "autoawait": "AsyncMagics",
        "autocall": "AutoMagics",
        "automagic": "AutoMagics",
        "autosave": "KernelMagics",
        "bookmark": "OSMagics",
        "cat": "Other",
        "cd": "OSMagics",
        "clear": "KernelMagics",
        "colors": "BasicMagics",
        "conda": "PackagingMagics",
        "config": "ConfigMagics",
        "connect_info": "KernelMagics",
        "cp": "Other",
        "debug": "ExecutionMagics",
        "dhist": "OSMagics",
        "dirs": "OSMagics",
        "doctest_mode": "BasicMagics",
        "ed": "Other",
        "edit": "KernelMagics",
        "env": "OSMagics",
        "gui": "BasicMagics",
        "hist": "Other",
        "history": "HistoryMagics",
        "killbgscripts": "ScriptMagics",
        "ldir": "Other",
        "less": "KernelMagics",
        "lf": "Other",
        "lk": "Other",
        "ll": "Other",
        "load": "CodeMagics",
        "load_ext": "ExtensionMagics",
        "loadpy": "CodeMagics",
        "logoff": "LoggingMagics",
        "logon": "LoggingMagics",
        "logstart": "LoggingMagics",
        "logstate": "LoggingMagics",
        "logstop": "LoggingMagics",
        "ls": "Other",
        "lsmagic": "BasicMagics",
        "lx": "Other",
        "macro": "ExecutionMagics",
        "magic": "BasicMagics",
        "man": "KernelMagics",
        "matplotlib": "PylabMagics",
        "mkdir": "Other",
        "more": "KernelMagics",
        "mv": "Other",
        "notebook": "BasicMagics",
        "page": "BasicMagics",
        "pastebin": "CodeMagics",
        "pdb": "ExecutionMagics",
        "pdef": "NamespaceMagics",
        "pdoc": "NamespaceMagics",
        "pfile": "NamespaceMagics",
        "pinfo": "NamespaceMagics",
        "pinfo2": "NamespaceMagics",
        "pip": "PackagingMagics",
        "popd": "OSMagics",
        "pprint": "BasicMagics",
        "precision": "BasicMagics",
        "prun": "ExecutionMagics",
        "psearch": "NamespaceMagics",
        "psource": "NamespaceMagics",
        "pushd": "OSMagics",
        "pwd": "OSMagics",
        "pycat": "OSMagics",
        "pylab": "PylabMagics",
        "qtconsole": "KernelMagics",
        "quickref": "BasicMagics",
        "recall": "HistoryMagics",
        "rehashx": "OSMagics",
        "reload_ext": "ExtensionMagics",
        "rep": "Other",
        "rerun": "HistoryMagics",
        "reset": "NamespaceMagics",
        "reset_selective": "NamespaceMagics",
        "rm": "Other",
        "rmdir": "Other",
        "run": "ExecutionMagics",
        "save": "CodeMagics",
        "sc": "OSMagics",
        "set_env": "OSMagics",
        "store": "StoreMagics",
        "sx": "OSMagics",
        "system": "OSMagics",
        "tb": "ExecutionMagics",
        "time": "ExecutionMagics",
        "timeit": "ExecutionMagics",
        "unalias": "OSMagics",
        "unload_ext": "ExtensionMagics",
        "who": "NamespaceMagics",
        "who_ls": "NamespaceMagics",
        "whos": "NamespaceMagics",
        "xdel": "NamespaceMagics",
        "xmode": "BasicMagics"
       }
      },
      "text/plain": [
       "Available line magics:\n",
       "%alias  %alias_magic  %autoawait  %autocall  %automagic  %autosave  %bookmark  %cat  %cd  %clear  %colors  %conda  %config  %connect_info  %cp  %debug  %dhist  %dirs  %doctest_mode  %ed  %edit  %env  %gui  %hist  %history  %killbgscripts  %ldir  %less  %lf  %lk  %ll  %load  %load_ext  %loadpy  %logoff  %logon  %logstart  %logstate  %logstop  %ls  %lsmagic  %lx  %macro  %magic  %man  %matplotlib  %mkdir  %more  %mv  %notebook  %page  %pastebin  %pdb  %pdef  %pdoc  %pfile  %pinfo  %pinfo2  %pip  %popd  %pprint  %precision  %prun  %psearch  %psource  %pushd  %pwd  %pycat  %pylab  %qtconsole  %quickref  %recall  %rehashx  %reload_ext  %rep  %rerun  %reset  %reset_selective  %rm  %rmdir  %run  %save  %sc  %set_env  %store  %sx  %system  %tb  %time  %timeit  %unalias  %unload_ext  %who  %who_ls  %whos  %xdel  %xmode\n",
       "\n",
       "Available cell magics:\n",
       "%%!  %%HTML  %%SVG  %%bash  %%capture  %%debug  %%file  %%html  %%javascript  %%js  %%latex  %%markdown  %%perl  %%prun  %%pypy  %%python  %%python2  %%python3  %%ruby  %%script  %%sh  %%svg  %%sx  %%system  %%time  %%timeit  %%writefile\n",
       "\n",
       "Automagic is ON, % prefix IS NOT needed for line magics."
      ]
     },
     "execution_count": 1,
     "metadata": {},
     "output_type": "execute_result"
    }
   ],
   "source": [
    "%lsmagic\n"
   ]
  },
  {
   "cell_type": "code",
   "execution_count": 2,
   "id": "86db5cd8-2785-436e-ba66-f023685fa7d6",
   "metadata": {},
   "outputs": [
    {
     "data": {
      "text/plain": [
       "'/home/mwangidyce/durham/flights'"
      ]
     },
     "execution_count": 2,
     "metadata": {},
     "output_type": "execute_result"
    }
   ],
   "source": [
    "%pwd"
   ]
  },
  {
   "cell_type": "code",
   "execution_count": 3,
   "id": "eb94b30c-6f72-4006-9b13-40ec75a1f24d",
   "metadata": {},
   "outputs": [
    {
     "name": "stdout",
     "output_type": "stream",
     "text": [
      "TrialNotebook.ipynb  \u001b[0m\u001b[01;34m__pycache__\u001b[0m/  trial.py\n"
     ]
    }
   ],
   "source": [
    "# Set matplotlib to inline\n",
    "%ls\n"
   ]
  },
  {
   "cell_type": "code",
   "execution_count": 4,
   "id": "acb63280-b8b3-4b50-b1f0-08a658611c98",
   "metadata": {},
   "outputs": [
    {
     "name": "stdout",
     "output_type": "stream",
     "text": [
      "TrialNotebook.ipynb  __pycache__  trial.py\n"
     ]
    }
   ],
   "source": [
    "!ls"
   ]
  },
  {
   "cell_type": "code",
   "execution_count": null,
   "id": "a2e4beb2-8c06-4db5-8e2c-cbcc821f2269",
   "metadata": {},
   "outputs": [],
   "source": []
  }
 ],
 "metadata": {
  "kernelspec": {
   "display_name": "Python 3 (ipykernel)",
   "language": "python",
   "name": "python3"
  },
  "language_info": {
   "codemirror_mode": {
    "name": "ipython",
    "version": 3
   },
   "file_extension": ".py",
   "mimetype": "text/x-python",
   "name": "python",
   "nbconvert_exporter": "python",
   "pygments_lexer": "ipython3",
   "version": "3.8.11"
  }
 },
 "nbformat": 4,
 "nbformat_minor": 5
}
