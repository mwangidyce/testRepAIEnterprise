{
 "cells": [
  {
   "cell_type": "code",
   "execution_count": 1,
   "metadata": {},
   "outputs": [],
   "source": [
    "import numpy as np"
   ]
  },
  {
   "cell_type": "code",
   "execution_count": 46,
   "metadata": {},
   "outputs": [
    {
     "name": "stdout",
     "output_type": "stream",
     "text": [
      "[[1 1 1 1 1]\n",
      " [1 0 0 0 0]\n",
      " [1 0 0 0 0]\n",
      " [1 0 0 0 0]\n",
      " [1 1 1 1 1]]\n"
     ]
    }
   ],
   "source": [
    "data = np.full((5,5), 1)\n",
    "data[1:-1,1:-1] = 0\n",
    "print(data)\n",
    "\n",
    "\n",
    "\n"
   ]
  },
  {
   "cell_type": "code",
   "execution_count": 9,
   "metadata": {},
   "outputs": [
    {
     "data": {
      "text/plain": [
       "'MMMDCC'"
      ]
     },
     "execution_count": 9,
     "metadata": {},
     "output_type": "execute_result"
    }
   ],
   "source": [
    "\"\"\"To Roman\"\"\"\n",
    "roman_dict = {1:\"I\", 5:\"V\", 10: \"X\", 50:\"L\", 100:\"C\", 500:\"D\", 1000:\"M\"}\n",
    "\n",
    "def to_roman(num: int) -> str:\n",
    "    roman_str = \"\"\n",
    "    if num > 1000:\n",
    "        ans, rem = divmod(num, 1000)\n",
    "        roman_str += ans * roman_dict[1000]\n",
    "        return roman_str + to_roman(rem)\n",
    "    if num >= 900:\n",
    "        rem = num - 900\n",
    "        roman_str += 'CM'\n",
    "        return roman_str + to_roman(rem)\n",
    "    if num >= 500:\n",
    "        rem = num - 500\n",
    "        roman_str += \"D\"\n",
    "        return roman_str + to_roman(rem)\n",
    "    if num >= 400:\n",
    "        rem = num - 400\n",
    "        roman_str += \"CD\"\n",
    "        return roman_str + to_roman(rem)\n",
    "    if num >= 100:\n",
    "        ans, rem = divmod(num,100)\n",
    "        roman_str += ans * \"C\"\n",
    "        return roman_str + to_roman(rem)\n",
    "    return roman_str\n",
    "\n",
    "to_roman(3700)"
   ]
  },
  {
   "cell_type": "code",
   "execution_count": 6,
   "metadata": {},
   "outputs": [
    {
     "data": {
      "text/plain": [
       "'be9bb651-b4ff-489c-85e9-0613c384f4f9'"
      ]
     },
     "execution_count": 6,
     "metadata": {},
     "output_type": "execute_result"
    }
   ],
   "source": [
    "import uuid\n",
    "\n",
    "str(uuid.uuid4())"
   ]
  }
 ],
 "metadata": {
  "interpreter": {
   "hash": "6fbcb25ffd1e704b77e766f8f15869059d849d69d6a71e37721ac89c2bbcb90f"
  },
  "kernelspec": {
   "display_name": "Python 3.8.11 64-bit ('d2l': conda)",
   "name": "python3"
  },
  "language_info": {
   "codemirror_mode": {
    "name": "ipython",
    "version": 3
   },
   "file_extension": ".py",
   "mimetype": "text/x-python",
   "name": "python",
   "nbconvert_exporter": "python",
   "pygments_lexer": "ipython3",
   "version": "3.8.2"
  },
  "orig_nbformat": 4
 },
 "nbformat": 4,
 "nbformat_minor": 2
}
