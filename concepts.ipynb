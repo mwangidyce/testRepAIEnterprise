{
 "cells": [
  {
   "cell_type": "code",
   "execution_count": 4,
   "metadata": {},
   "outputs": [
    {
     "name": "stdout",
     "output_type": "stream",
     "text": [
      "This will print the first string\n",
      "This will print the first string\n"
     ]
    }
   ],
   "source": [
    "def multi_yield():\n",
    "    yield_str = \"This will print the first string\"\n",
    "    yield yield_str\n",
    "    yield_str = \"This will print the second string\"\n",
    "    yield yield_str\n",
    "\n"
   ]
  },
  {
   "cell_type": "code",
   "execution_count": 52,
   "metadata": {},
   "outputs": [
    {
     "name": "stdout",
     "output_type": "stream",
     "text": [
      "2021-10-30 19:15:03.797868 /home/mwangidyce/durham/jAbbasAssign/text.txt\n",
      "2021-10-07 19:17:46.672884 /home/mwangidyce/durham/jAbbasAssign/AIDI_1100_SECTIONA_ASSIGNMENT1_LAWRENCEE_MWANGI.ipynb\n",
      "2021-10-30 20:07:42.567868 /home/mwangidyce/durham/jAbbasAssign/concepts.ipynb\n"
     ]
    }
   ],
   "source": [
    "import collections\n",
    "from pathlib import Path\n",
    "\n",
    "# Just small change\n",
    "\n",
    "\n",
    "from datetime import datetime\n",
    "\n",
    "timestuff = ((f.stat().st_mtime, f) for f in Path().cwd().iterdir())\n",
    "for sttime, fpath in timestuff:\n",
    "    print(datetime.fromtimestamp(sttime), fpath)\n",
    "# print(datetime.fromtimestamp(time), file_path)"
   ]
  }
 ],
 "metadata": {
  "interpreter": {
   "hash": "6fbcb25ffd1e704b77e766f8f15869059d849d69d6a71e37721ac89c2bbcb90f"
  },
  "kernelspec": {
   "display_name": "Python 3.8.11 64-bit ('d2l': conda)",
   "name": "python3"
  },
  "language_info": {
   "codemirror_mode": {
    "name": "ipython",
    "version": 3
   },
   "file_extension": ".py",
   "mimetype": "text/x-python",
   "name": "python",
   "nbconvert_exporter": "python",
   "pygments_lexer": "ipython3",
   "version": "3.8.11"
  },
  "orig_nbformat": 4
 },
 "nbformat": 4,
 "nbformat_minor": 2
}
